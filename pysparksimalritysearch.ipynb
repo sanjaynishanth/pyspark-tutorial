{
  "nbformat": 4,
  "nbformat_minor": 0,
  "metadata": {
    "colab": {
      "provenance": [],
      "toc_visible": true,
      "authorship_tag": "ABX9TyNxxmHJrMirIHsuR1s6GrdM",
      "include_colab_link": true
    },
    "kernelspec": {
      "name": "python3",
      "display_name": "Python 3"
    },
    "language_info": {
      "name": "python"
    }
  },
  "cells": [
    {
      "cell_type": "markdown",
      "metadata": {
        "id": "view-in-github",
        "colab_type": "text"
      },
      "source": [
        "<a href=\"https://colab.research.google.com/github/sanjaynishanth/pyspark-tutorial/blob/main/pysparksimalritysearch.ipynb\" target=\"_parent\"><img src=\"https://colab.research.google.com/assets/colab-badge.svg\" alt=\"Open In Colab\"/></a>"
      ]
    },
    {
      "cell_type": "markdown",
      "source": [
        "preprocess using Minmaxscaler"
      ],
      "metadata": {
        "id": "bQPSgDd7Z9_h"
      }
    },
    {
      "cell_type": "code",
      "execution_count": 20,
      "metadata": {
        "colab": {
          "base_uri": "https://localhost:8080/"
        },
        "id": "DIyUBxdG6Hz5",
        "outputId": "ad5ce229-249b-4d79-c1f9-79646aa8d9dd"
      },
      "outputs": [
        {
          "output_type": "stream",
          "name": "stdout",
          "text": [
            "root\n",
            " |-- CustomerID: integer (nullable = true)\n",
            " |-- Gender: string (nullable = true)\n",
            " |-- Age: integer (nullable = true)\n",
            " |-- Annual Income (k$): integer (nullable = true)\n",
            " |-- Spending Score (1-100): integer (nullable = true)\n",
            "\n"
          ]
        }
      ],
      "source": [
        "from pyspark.sql import SparkSession\n",
        "from pyspark.ml.feature import StringIndexer, VectorAssembler, MinMaxScaler\n",
        "from pyspark.ml import Pipeline\n",
        "from pyspark.sql.functions import lit\n",
        "from pyspark.ml.linalg import Vectors\n",
        "from pyspark.sql.functions import udf\n",
        "from pyspark.sql.types import DoubleType\n",
        "\n",
        "\n",
        "spark = SparkSession.builder \\\n",
        "    .appName(\"Preprocessing with MinMax Scaling\") \\\n",
        "    .getOrCreate()\n",
        "\n",
        "\n",
        "df = spark.read.csv(\"/content/Mall_Customers.csv\", header=True, inferSchema=True)\n",
        "df.printSchema()"
      ]
    },
    {
      "cell_type": "code",
      "source": [
        "gender_indexer = StringIndexer(inputCol=\"Gender\", outputCol=\"Gender_Indexed\")\n",
        "df_indexed = gender_indexer.fit(df).transform(df)\n"
      ],
      "metadata": {
        "id": "TMjHwxQFEVVt"
      },
      "execution_count": 21,
      "outputs": []
    },
    {
      "cell_type": "code",
      "source": [
        "df_indexed = df_indexed.withColumn(\"Age\", df_indexed[\"Age\"].cast(\"double\")) \\\n",
        "                       .withColumn(\"Annual Income (k$)\", df_indexed[\"Annual Income (k$)\"].cast(\"double\")) \\\n",
        "                       .withColumn(\"Spending Score (1-100)\", df_indexed[\"Spending Score (1-100)\"].cast(\"double\"))"
      ],
      "metadata": {
        "id": "WZ-8A1-RHOX7"
      },
      "execution_count": 22,
      "outputs": []
    },
    {
      "cell_type": "code",
      "source": [
        "input_columns = [\"Gender_Indexed\", \"Age\", \"Annual Income (k$)\", \"Spending Score (1-100)\"]\n",
        "assembler = VectorAssembler(inputCols=input_columns, outputCol=\"features\")\n",
        "df_assembled = assembler.transform(df_indexed)"
      ],
      "metadata": {
        "id": "b0C14Gf6ART5"
      },
      "execution_count": 23,
      "outputs": []
    },
    {
      "cell_type": "code",
      "source": [
        "scaler = MinMaxScaler(inputCol=\"features\", outputCol=\"scaledFeatures\")\n",
        "scaler_model = scaler.fit(df_assembled)\n",
        "scaled_data = scaler_model.transform(df_assembled)"
      ],
      "metadata": {
        "id": "nzdepIT0CpQt"
      },
      "execution_count": 24,
      "outputs": []
    },
    {
      "cell_type": "code",
      "source": [
        "scaled_data.select(\"CustomerID\", \"Gender\", \"Age\", \"Annual Income (k$)\", \"Spending Score (1-100)\", \"scaledFeatures\").show(truncate=False)"
      ],
      "metadata": {
        "colab": {
          "base_uri": "https://localhost:8080/"
        },
        "id": "O4CXTUKnR4vC",
        "outputId": "754b2daf-707e-4d96-f14f-6e94069ed575"
      },
      "execution_count": 25,
      "outputs": [
        {
          "output_type": "stream",
          "name": "stdout",
          "text": [
            "+----------+------+----+------------------+----------------------+-----------------------------------------------------------------+\n",
            "|CustomerID|Gender|Age |Annual Income (k$)|Spending Score (1-100)|scaledFeatures                                                   |\n",
            "+----------+------+----+------------------+----------------------+-----------------------------------------------------------------+\n",
            "|1         |Male  |19.0|15.0              |39.0                  |[1.0,0.019230769230769232,0.0,0.3877551020408163]                |\n",
            "|2         |Male  |21.0|15.0              |81.0                  |[1.0,0.057692307692307696,0.0,0.8163265306122448]                |\n",
            "|3         |Female|20.0|16.0              |6.0                   |[0.0,0.038461538461538464,0.00819672131147541,0.0510204081632653]|\n",
            "|4         |Female|23.0|16.0              |77.0                  |[0.0,0.09615384615384616,0.00819672131147541,0.7755102040816326] |\n",
            "|5         |Female|31.0|17.0              |40.0                  |[0.0,0.25,0.01639344262295082,0.39795918367346933]               |\n",
            "|6         |Female|22.0|17.0              |76.0                  |[0.0,0.07692307692307693,0.01639344262295082,0.7653061224489796] |\n",
            "|7         |Female|35.0|18.0              |6.0                   |[0.0,0.3269230769230769,0.02459016393442623,0.0510204081632653]  |\n",
            "|8         |Female|23.0|18.0              |94.0                  |[0.0,0.09615384615384616,0.02459016393442623,0.9489795918367346] |\n",
            "|9         |Male  |64.0|19.0              |3.0                   |[1.0,0.8846153846153847,0.03278688524590164,0.02040816326530612] |\n",
            "|10        |Female|30.0|19.0              |72.0                  |[0.0,0.23076923076923078,0.03278688524590164,0.7244897959183673] |\n",
            "|11        |Male  |67.0|19.0              |14.0                  |[1.0,0.9423076923076924,0.03278688524590164,0.13265306122448978] |\n",
            "|12        |Female|35.0|19.0              |99.0                  |[0.0,0.3269230769230769,0.03278688524590164,0.9999999999999999]  |\n",
            "|13        |Female|58.0|20.0              |15.0                  |[0.0,0.7692307692307693,0.04098360655737705,0.14285714285714285] |\n",
            "|14        |Female|24.0|20.0              |77.0                  |[0.0,0.11538461538461539,0.04098360655737705,0.7755102040816326] |\n",
            "|15        |Male  |37.0|20.0              |13.0                  |[1.0,0.3653846153846154,0.04098360655737705,0.12244897959183673] |\n",
            "|16        |Male  |22.0|20.0              |79.0                  |[1.0,0.07692307692307693,0.04098360655737705,0.7959183673469387] |\n",
            "|17        |Female|35.0|21.0              |35.0                  |[0.0,0.3269230769230769,0.04918032786885246,0.3469387755102041]  |\n",
            "|18        |Male  |20.0|21.0              |66.0                  |[1.0,0.038461538461538464,0.04918032786885246,0.6632653061224489]|\n",
            "|19        |Male  |52.0|23.0              |29.0                  |[1.0,0.6538461538461539,0.06557377049180328,0.2857142857142857]  |\n",
            "|20        |Female|35.0|23.0              |98.0                  |[0.0,0.3269230769230769,0.06557377049180328,0.9897959183673468]  |\n",
            "+----------+------+----+------------------+----------------------+-----------------------------------------------------------------+\n",
            "only showing top 20 rows\n",
            "\n"
          ]
        }
      ]
    },
    {
      "cell_type": "code",
      "source": [],
      "metadata": {
        "id": "0Bb9vMkSR9eE"
      },
      "execution_count": 26,
      "outputs": []
    },
    {
      "cell_type": "code",
      "source": [],
      "metadata": {
        "id": "CZuEzj1pSG1u"
      },
      "execution_count": null,
      "outputs": []
    }
  ]
}