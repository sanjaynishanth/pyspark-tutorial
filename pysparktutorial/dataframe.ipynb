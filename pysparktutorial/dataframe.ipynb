{
 "cells": [
  {
   "cell_type": "code",
   "execution_count": 1,
   "id": "8b91c58f-8f61-4c66-ba03-8f6333393604",
   "metadata": {},
   "outputs": [],
   "source": [
    "import os\n",
    "os.environ['SPARK_HOME']=r\"S:\\pyspark\\spark\"\n",
    "os.environ['PYSPARK_DRIVER_PYTHON']='jupyter'\n",
    "os.environ['PYSPARK_DRIVER_PYTHON_OPTS']='lab'\n",
    "os.environ['PYSPARK_PYTHON']='python'"
   ]
  },
  {
   "cell_type": "code",
   "execution_count": 2,
   "id": "21923891-df70-4c21-8657-d3c2782501cb",
   "metadata": {},
   "outputs": [],
   "source": [
    "from pyspark.sql import SparkSession\n",
    "from pyspark.sql.functions import desc"
   ]
  },
  {
   "cell_type": "code",
   "execution_count": 4,
   "id": "bed9d727-983f-4c3c-bca3-0749369a79a0",
   "metadata": {},
   "outputs": [],
   "source": [
    "spark=SparkSession.builder.appName(\"Dataframe-demo\").getOrCreate()\n"
   ]
  },
  {
   "cell_type": "code",
   "execution_count": 5,
   "id": "d6d6caab-0a74-4152-863a-4337154b1781",
   "metadata": {},
   "outputs": [],
   "source": [
    "rdd = spark.sparkContext.textFile(\"sample.txt\")\n",
    "result_rdd = rdd.flatMap(lambda line: line.split(\" \")) \\\n",
    "    .map(lambda word: (word, 1)) \\\n",
    "    .reduceByKey(lambda a, b: a + b) \\\n",
    "    .sortBy(lambda x: x[1], ascending=False)"
   ]
  },
  {
   "cell_type": "code",
   "execution_count": 6,
   "id": "6718f43e-db31-46c0-bec8-2f9de5b9f639",
   "metadata": {},
   "outputs": [
    {
     "data": {
      "text/plain": [
       "[('and', 6),\n",
       " ('to', 3),\n",
       " ('Dr.', 3),\n",
       " ('in', 2),\n",
       " ('smart', 2),\n",
       " ('IoT', 2),\n",
       " ('this', 2),\n",
       " ('has', 2),\n",
       " ('on', 2),\n",
       " ('my', 2)]"
      ]
     },
     "execution_count": 6,
     "metadata": {},
     "output_type": "execute_result"
    }
   ],
   "source": [
    "result_rdd.take(10)"
   ]
  },
  {
   "cell_type": "code",
   "execution_count": 8,
   "id": "5cf0bd9c-d00b-4b2a-8f2e-a7f8fa902954",
   "metadata": {},
   "outputs": [],
   "source": [
    "df = spark.read.text(\"sample.txt\")\n",
    "\n",
    "result_df = df.selectExpr(\"explode(split(value, ' ')) as word\") \\\n",
    "    .groupBy(\"word\").count().orderBy(desc(\"count\"))"
   ]
  },
  {
   "cell_type": "code",
   "execution_count": 9,
   "id": "bf2f6cfc-cd95-49bf-9839-d6c402c0ea86",
   "metadata": {},
   "outputs": [
    {
     "data": {
      "text/plain": [
       "[Row(word='and', count=6),\n",
       " Row(word='to', count=3),\n",
       " Row(word='Dr.', count=3),\n",
       " Row(word='in', count=2),\n",
       " Row(word='on', count=2),\n",
       " Row(word='my', count=2),\n",
       " Row(word='IoT', count=2),\n",
       " Row(word='smart', count=2),\n",
       " Row(word='this', count=2),\n",
       " Row(word='has', count=2)]"
      ]
     },
     "execution_count": 9,
     "metadata": {},
     "output_type": "execute_result"
    }
   ],
   "source": [
    "result_df.take(10)"
   ]
  },
  {
   "cell_type": "code",
   "execution_count": 10,
   "id": "549f1faf-a456-4e25-af50-6fa46d9e649e",
   "metadata": {},
   "outputs": [],
   "source": [
    "spark.stop()"
   ]
  },
  {
   "cell_type": "code",
   "execution_count": null,
   "id": "9ae7eece-9c2b-4151-8c2a-5eece05228ff",
   "metadata": {},
   "outputs": [],
   "source": [
    "+"
   ]
  }
 ],
 "metadata": {
  "kernelspec": {
   "display_name": "Python 3 (ipykernel)",
   "language": "python",
   "name": "python3"
  },
  "language_info": {
   "codemirror_mode": {
    "name": "ipython",
    "version": 3
   },
   "file_extension": ".py",
   "mimetype": "text/x-python",
   "name": "python",
   "nbconvert_exporter": "python",
   "pygments_lexer": "ipython3",
   "version": "3.10.10"
  }
 },
 "nbformat": 4,
 "nbformat_minor": 5
}
